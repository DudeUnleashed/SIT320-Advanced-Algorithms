{
 "cells": [
  {
   "cell_type": "code",
   "execution_count": 1,
   "id": "7ebdb4c4-a058-43dd-a85a-75733afcc596",
   "metadata": {
    "tags": []
   },
   "outputs": [],
   "source": [
    "#board will be a 2d array instead of a single list, this should help with scaling win checking\n",
    "def generateBoard():\n",
    "    scale = input(\"How large of a board would you like to play with: \")\n",
    "    while scale.isnumeric() is False:\n",
    "        scale = input(\"Try again, please enter a valid number: \")\n",
    "    board = [[' ' for i in range(int(scale))] for j in range(int(scale))]\n",
    "    return board"
   ]
  },
  {
   "cell_type": "code",
   "execution_count": 2,
   "id": "f146718b-c914-4505-ad6d-2af3c7bffe94",
   "metadata": {
    "tags": []
   },
   "outputs": [],
   "source": [
    "def printBoard(board):\n",
    "    for row in board:\n",
    "        print(row)"
   ]
  },
  {
   "cell_type": "code",
   "execution_count": 3,
   "id": "57da6658-2673-4434-ba44-d4d74d1b9ec3",
   "metadata": {
    "tags": []
   },
   "outputs": [],
   "source": [
    "def clearBoard(board):\n",
    "    for row in range(len(board)):\n",
    "        for col in range(len(board)):\n",
    "            board[row][col] = ' '           "
   ]
  },
  {
   "cell_type": "code",
   "execution_count": 4,
   "id": "2b8455ac-a995-4be8-a348-d79c2b156c87",
   "metadata": {
    "tags": []
   },
   "outputs": [],
   "source": [
    "def checkWin(board, mark):\n",
    "    scale = len(board)\n",
    "    # checks horizontal wins\n",
    "    for row in board:\n",
    "        for col in range(scale):\n",
    "            if row[col] != mark:\n",
    "                break\n",
    "            elif col == scale - 1:\n",
    "                return True\n",
    "    #checks vertical wins\n",
    "    for col in range(scale):\n",
    "        for row in range(scale):\n",
    "            if board[row][col] != mark:\n",
    "                break\n",
    "            elif row == scale - 1:\n",
    "                return True\n",
    "    #checks for forward diagonal wins\n",
    "    for i in range(scale):\n",
    "        if board[i][i] != mark:\n",
    "            break\n",
    "        elif i == scale - 1:\n",
    "            return True\n",
    "\n",
    "    # checks for reverse diagonal wins\n",
    "    for i in range(scale):\n",
    "        if board[i][scale - 1 - i] != mark:\n",
    "            break\n",
    "        elif i == scale - 1:\n",
    "            return True\n",
    "        \n",
    "    return False\n",
    "    \n",
    "                "
   ]
  },
  {
   "cell_type": "code",
   "execution_count": 5,
   "id": "8e0b93b9-710e-4534-8901-da5796f32404",
   "metadata": {
    "tags": []
   },
   "outputs": [],
   "source": [
    "def checkDraw(board):\n",
    "    if checkWin(board, 'x'):\n",
    "        return False\n",
    "    if checkWin(board, 'o'):\n",
    "        return False\n",
    "\n",
    "    for row in range(len(board)):\n",
    "        for col in range(len(board)):\n",
    "            if board[row][col] == ' ':\n",
    "                return False\n",
    "    return True\n",
    "    "
   ]
  },
  {
   "cell_type": "code",
   "execution_count": 6,
   "id": "79d9e968-7a2b-421b-906b-7946e5105566",
   "metadata": {
    "tags": []
   },
   "outputs": [],
   "source": [
    "def playerMove(board, mark):\n",
    "    #checks for valid input on the board\n",
    "    printBoard(board)\n",
    "    x, y = -1, -1\n",
    "    while (x < 0) or (y < 0) or (x > len(board)) or (y > len(board[0])):\n",
    "        #check user input for valid coordinates\n",
    "        position = input(\"What space would you like to play your move (input as coordinates between (1 (row), 1 (column) and (\" + str(len(board)) + \" (row), \"+ str(len(board[0])) + \" (column)): \")\n",
    "        position = position.split(',')\n",
    "        while (position[0].strip().isnumeric() is False) or (position[1].strip().isnumeric() is False):\n",
    "            position = input(\"What space would you like to play your move (input as coordinates between (1, 1) and (\" + str(len(board)) + \", \"+ str(len(board[0])) + \"): \")\n",
    "            position = position.split(',')\n",
    "        x = int(position[0].strip()) -1\n",
    "        y = int(position[1].strip()) -1\n",
    "    if board[x][y] == ' ':\n",
    "        board[x][y] = mark\n",
    "        printBoard(board)\n",
    "        if checkWin(board, mark):\n",
    "            print(\"Player Wins\")\n",
    "    else: \n",
    "        print(\"Board space is already occupied\")\n",
    "        playerMove(board, mark)        "
   ]
  },
  {
   "cell_type": "code",
   "execution_count": 66,
   "id": "47d1fe1e-006d-495d-9de7-57a5796aedaf",
   "metadata": {
    "tags": []
   },
   "outputs": [],
   "source": [
    "class AI:\n",
    "    @staticmethod\n",
    "    def move(board, compMark):\n",
    "        print(\"the comp makes a move\")"
   ]
  },
  {
   "cell_type": "code",
   "execution_count": 61,
   "id": "06f6aec8-9046-4eef-b20d-64fb301b4ea1",
   "metadata": {
    "tags": []
   },
   "outputs": [],
   "source": [
    "class minimaxMove(AI):\n",
    "    @staticmethod\n",
    "    def move(board, compMark):\n",
    "        bestScore =- 1000\n",
    "        bestMove = 0\n",
    "        if compMark == 'x':\n",
    "            playerMark = 'o'\n",
    "        else: playerMark = 'x'\n",
    "    \n",
    "        for row in range(len(board)):\n",
    "            for col in range(len(board)):\n",
    "                if board[row][col] == ' ':\n",
    "                    board[row][col] = compMark\n",
    "                    score = customMinimax(board, False, playerMark, compMark)\n",
    "                    board[row][col] = ' '\n",
    "                    if (score > bestScore):\n",
    "                        bestScore = score\n",
    "                        bestMove = row, col\n",
    "        x = int(bestMove[0])\n",
    "        y = int(bestMove[1])\n",
    "        board[x][y] = compMark\n",
    "        if checkWin(board, compMark):\n",
    "            print(\"Computer Wins\")\n",
    "        return"
   ]
  },
  {
   "cell_type": "code",
   "execution_count": 47,
   "id": "2fbbfc17-0fdd-4371-bed8-204056714948",
   "metadata": {
    "tags": []
   },
   "outputs": [],
   "source": [
    "class reinforcementLearningMove(AI):\n",
    "    #implement reinforcement algo computer move instead\n",
    "    pass"
   ]
  },
  {
   "cell_type": "code",
   "execution_count": 60,
   "id": "c43fa529-1d0a-4607-aadb-db18d73c085c",
   "metadata": {
    "tags": []
   },
   "outputs": [],
   "source": [
    "class deepLearningMove(AI):\n",
    "    #implement deep learning move instead\n",
    "    pass"
   ]
  },
  {
   "cell_type": "code",
   "execution_count": 49,
   "id": "f0320715-32cc-4e12-a951-20e9548c7621",
   "metadata": {
    "tags": []
   },
   "outputs": [],
   "source": [
    "def customMinimax(board, isMax, playerMark, compMark):\n",
    "    if checkWin(board, compMark):\n",
    "        return 1\n",
    "    elif checkWin(board, playerMark):\n",
    "        return -1\n",
    "    elif checkDraw(board):\n",
    "        return 0\n",
    "    \n",
    "    if isMax:\n",
    "        bestScore = -1000\n",
    "        for row in range(len(board)):\n",
    "            for col in range(len(board)):\n",
    "                if board[row][col] == ' ':\n",
    "                    board[row][col] = compMark\n",
    "                    score = customMinimax(board, False, playerMark, compMark)\n",
    "                    board[row][col] = ' '\n",
    "                    if (score > bestScore):\n",
    "                        bestScore = score\n",
    "        return bestScore\n",
    "\n",
    "    else:\n",
    "        bestScore = 1000\n",
    "        for row in range(len(board)):\n",
    "            for col in range(len(board)):\n",
    "                if board[row][col] == ' ':\n",
    "                    board[row][col] = playerMark\n",
    "                    score = customMinimax(board, True, playerMark, compMark)\n",
    "                    board[row][col] = ' '\n",
    "                    if (score < bestScore):\n",
    "                        bestScore = score\n",
    "        return bestScore\n",
    "        "
   ]
  },
  {
   "cell_type": "code",
   "execution_count": 63,
   "id": "9c6b14c5-c451-49fe-a7dc-3000f1821431",
   "metadata": {
    "tags": []
   },
   "outputs": [],
   "source": [
    "def playGame():\n",
    "    import random as rand\n",
    "    firstplayer = rand.randint(1,2)\n",
    "    if firstplayer == 2:\n",
    "        print(\"You are first\")\n",
    "    else: print(\"Bot is first\")\n",
    "    \n",
    "    playermark = int(input(\"What mark would you like to play with, 1 for x or 2 for o: \"))\n",
    "    while (playermark > 2) or (playermark < 1):\n",
    "        playermark = input(\"Please enter a valid mark to play with:\")\n",
    "    if playermark == 2:\n",
    "        playermark = 'o'\n",
    "        compmark = 'x'\n",
    "    else: \n",
    "        compmark = 'o'\n",
    "        playermark = 'x'\n",
    "        \n",
    "    gameBoard = generateBoard()\n",
    "    \n",
    "    algorithmType = int(input(\"What algorithm do you want to face this game: 1: minimax, 2: reinforcment learning, 3: deep learning\"))\n",
    "    while (algorithmType > 3) or (algorithmType < 1):\n",
    "        algorithmType = int(input(\"Please enter a valid algorithm to play against:\"))\n",
    "    if algorithmType == 1:\n",
    "         algorithm = minimaxMove()\n",
    "    elif algorithmType == 2:\n",
    "        algorithm = AI()\n",
    "    else:\n",
    "        algorithm = AI()\n",
    "        \n",
    "\n",
    "    while (checkDraw(gameBoard) is False):\n",
    "        if firstplayer == 2:\n",
    "            playerMove(gameBoard, playermark)\n",
    "            if checkWin(gameBoard, playermark) or checkDraw(gameBoard):\n",
    "                print(\"Game is over\")\n",
    "                break\n",
    "            algorithm.move(gameBoard, compmark)\n",
    "            if checkWin(gameBoard, compmark):\n",
    "                break\n",
    "        else:\n",
    "            algorithm.move(gameBoard, compmark)\n",
    "            if checkWin(gameBoard, compmark) or checkDraw(gameBoard):\n",
    "                print(\"Game is over\")\n",
    "                break\n",
    "            playerMove(gameBoard, playermark)\n",
    "            if checkWin(gameBoard, playermark):\n",
    "                break"
   ]
  },
  {
   "cell_type": "code",
   "execution_count": 71,
   "id": "f01e7958-e18c-45fb-8540-1e06d200a9c1",
   "metadata": {
    "jp-MarkdownHeadingCollapsed": true,
    "tags": []
   },
   "outputs": [
    {
     "name": "stdout",
     "output_type": "stream",
     "text": [
      "You are first\n"
     ]
    },
    {
     "name": "stdin",
     "output_type": "stream",
     "text": [
      "What mark would you like to play with, 1 for x or 2 for o:  2\n",
      "How large of a board would you like to play with:  2\n",
      "What algorithm do you want to face this game: 1: minimax, 2: reinforcment learning, 3: deep learning 1\n"
     ]
    },
    {
     "name": "stdout",
     "output_type": "stream",
     "text": [
      "[' ', ' ']\n",
      "[' ', ' ']\n"
     ]
    },
    {
     "name": "stdin",
     "output_type": "stream",
     "text": [
      "What space would you like to play your move (input as coordinates between (1 (row), 1 (column) and (2 (row), 2 (column)):  1,1\n"
     ]
    },
    {
     "name": "stdout",
     "output_type": "stream",
     "text": [
      "['o', ' ']\n",
      "[' ', ' ']\n",
      "['o', 'x']\n",
      "[' ', ' ']\n"
     ]
    },
    {
     "name": "stdin",
     "output_type": "stream",
     "text": [
      "What space would you like to play your move (input as coordinates between (1 (row), 1 (column) and (2 (row), 2 (column)):  1,2\n"
     ]
    },
    {
     "name": "stdout",
     "output_type": "stream",
     "text": [
      "Board space is already occupied\n",
      "['o', 'x']\n",
      "[' ', ' ']\n"
     ]
    },
    {
     "name": "stdin",
     "output_type": "stream",
     "text": [
      "What space would you like to play your move (input as coordinates between (1 (row), 1 (column) and (2 (row), 2 (column)):  2,1\n"
     ]
    },
    {
     "name": "stdout",
     "output_type": "stream",
     "text": [
      "['o', 'x']\n",
      "['o', ' ']\n",
      "Player Wins\n",
      "Game is over\n"
     ]
    }
   ],
   "source": [
    "playGame()\n"
   ]
  },
  {
   "cell_type": "code",
   "execution_count": null,
   "id": "5378089b-9cb6-4a9c-bcd5-6a5d283ba15d",
   "metadata": {},
   "outputs": [],
   "source": []
  }
 ],
 "metadata": {
  "kernelspec": {
   "display_name": "Python 3 (ipykernel)",
   "language": "python",
   "name": "python3"
  },
  "language_info": {
   "codemirror_mode": {
    "name": "ipython",
    "version": 3
   },
   "file_extension": ".py",
   "mimetype": "text/x-python",
   "name": "python",
   "nbconvert_exporter": "python",
   "pygments_lexer": "ipython3",
   "version": "3.11.3"
  }
 },
 "nbformat": 4,
 "nbformat_minor": 5
}
